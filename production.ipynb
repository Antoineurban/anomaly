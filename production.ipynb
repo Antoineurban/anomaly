{
 "cells": [
  {
   "cell_type": "markdown",
   "metadata": {},
   "source": [
    "# Production\n",
    "\n",
    "This notebook shows how to generate the final classification function and how to use it.\n",
    "\n",
    "### Generation of the function\n",
    "\n",
    "We start with a regular `Detector` that loads all the data we gathered.\n"
   ]
  },
  {
   "cell_type": "code",
   "execution_count": 1,
   "metadata": {},
   "outputs": [
    {
     "name": "stdout",
     "output_type": "stream",
     "text": [
      "loaded 5646 rows (0.04 s)\n",
      "using seed: 656558797\n"
     ]
    }
   ],
   "source": [
    "from detector import *\n",
    "from loader import load_detector\n",
    "detector = load_detector()"
   ]
  },
  {
   "cell_type": "markdown",
   "metadata": {},
   "source": [
    "Then we feed it a classifier to train. We then store it back into the detector."
   ]
  },
  {
   "cell_type": "code",
   "execution_count": 2,
   "metadata": {},
   "outputs": [],
   "source": [
    "from sklearn import ensemble\n",
    "from sklearn import tree\n",
    "\n",
    "untrained_clf = ensemble.AdaBoostClassifier (\n",
    "    base_estimator = tree.DecisionTreeClassifier(max_depth=4),\n",
    "    n_estimators = 46,\n",
    "    learning_rate = .6\n",
    ")\n",
    "\n",
    "trained_clf = detector.classify(untrained_clf)[2]\n",
    "detector.best_clf = trained_clf"
   ]
  },
  {
   "cell_type": "markdown",
   "metadata": {},
   "source": [
    "Now, we could use `detector.predict(class_, length, width)` for our predictions. But sharing the `Detector` object is not a good solution: it would also gather the (now useless) dataframes, other methods, etc. So instead, we just dump the method."
   ]
  },
  {
   "cell_type": "code",
   "execution_count": 3,
   "metadata": {},
   "outputs": [],
   "source": [
    "import pickle\n",
    "file = open('anomaly_classifier.clf', 'wb')\n",
    "pickle.dump(detector.predict, file)\n",
    "file.close()"
   ]
  },
  {
   "cell_type": "markdown",
   "metadata": {},
   "source": [
    "### Usage\n",
    "\n",
    "Now, we just have to load the function and apply it. The file is easily shared as it only weighs about 400 Kb."
   ]
  },
  {
   "cell_type": "code",
   "execution_count": 4,
   "metadata": {},
   "outputs": [
    {
     "name": "stdout",
     "output_type": "stream",
     "text": [
      "A moto 6 meters long and 1 meter wide: malicious\n",
      "A car 5 meters long and 2 meter wide: non-malicous\n"
     ]
    }
   ],
   "source": [
    "def classify(class_, length, width):\n",
    "    import pickle\n",
    "    file = open('anomaly_classifier.clf', 'rb')\n",
    "    fun = pickle.load(file)\n",
    "    file.close()\n",
    "    if fun(class_, length, width):\n",
    "        return \"malicious\"\n",
    "    else:\n",
    "        return \"non-malicous\"\n",
    "\n",
    "print(\"A moto 6 meters long and 1 meter wide:\", classify(\"moto\", 6000, 1000))\n",
    "print(\"A car 5 meters long and 2 meter wide:\", classify(\"car\", 5000, 2000))"
   ]
  }
 ],
 "metadata": {
  "kernelspec": {
   "display_name": "Python 3",
   "language": "python",
   "name": "python3"
  },
  "language_info": {
   "codemirror_mode": {
    "name": "ipython",
    "version": 3
   },
   "file_extension": ".py",
   "mimetype": "text/x-python",
   "name": "python",
   "nbconvert_exporter": "python",
   "pygments_lexer": "ipython3",
   "version": "3.6.0"
  }
 },
 "nbformat": 4,
 "nbformat_minor": 2
}
