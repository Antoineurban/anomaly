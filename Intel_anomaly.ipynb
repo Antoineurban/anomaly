{
 "cells": [
  {
   "cell_type": "code",
   "execution_count": null,
   "metadata": {},
   "outputs": [],
   "source": [
    "# Imports\n",
    "import pandas as pd\n",
    "import matplotlib.pyplot as plt\n",
    "import matplotlib.colors as colors\n",
    "import random as rd\n",
    "import numpy as np\n",
    "from sklearn import svm\n",
    "from sklearn import tree\n",
    "from sklearn import ensemble\n",
    "%matplotlib inline"
   ]
  },
  {
   "cell_type": "code",
   "execution_count": null,
   "metadata": {
    "slideshow": {
     "slide_type": "-"
    }
   },
   "outputs": [],
   "source": [
    "# Loading dataset\n",
    "df = pd.read_csv(\"Intel_data.csv\", sep=';', \n",
    "                  names = [\"Date\", \"Time\", \"Epoch\", \"Moteid\",\"Temp\",\"Humidity\",\"Light\",\"Voltage\"])\n",
    "Date=df.Date\n",
    "Moteid=df.Moteid\n",
    "Time=df.Time\n",
    "Temp=df.Temp\n",
    "def occurences(date,zone):\n",
    "    occurence = []\n",
    "    for p in range(len(Date)):\n",
    "        if(Date[p]==date and Moteid[p]==zone):\n",
    "            occurence.append(p)\n",
    "    return(occurence)\n",
    "\n",
    "test_Time1=[p for p in Time[occurences(\"01/03/2004\",1)]]\n",
    "test_Temp1=[p for p in Temp[occurences(\"01/03/2004\",1)]]\n",
    "\n",
    "test_Temp2=[p for p in Temp[occurences(\"01/03/2004\",2)]]\n",
    "test_Time2=[p for p in Time[occurences(\"01/03/2004\",2)]]\n"
   ]
  },
  {
   "cell_type": "code",
   "execution_count": null,
   "metadata": {},
   "outputs": [],
   "source": [
    "plt.figure(1,figsize=(12, 12))\n",
    "color=['g','r','c','m','y','k','b','navy']\n",
    "#for i in range(1,7):\n",
    "#    plt.plot([p for p in Time[occurences(\"01/03/2004\",i)]], [q for q in Temp[occurences(\"01/03/2004\",i)]],linewidth=2.0, label='Zone'+str(i), c=color[i])\n",
    "#    print(i)\n",
    "#plt.plot([p for p in test_Time1], [q for q in test_Temp1],'o', label='Zone1', c='blue')\n",
    "#plt.plot([p for p in test_Time2], [q for q in test_Temp2],'o', label='Zone2', c='orange')\n",
    "for i in range(1,5):\n",
    "    plt.plot([p for p in Time[occurences(\"28/03/2004\",i)]], [q for q in Temp[occurences(\"28/03/2004\",i)]],linewidth=2.0, label='Zone'+str(i), c=color[i])\n",
    "    print(i)\n",
    "plt.show()"
   ]
  },
  {
   "cell_type": "code",
   "execution_count": null,
   "metadata": {},
   "outputs": [],
   "source": []
  }
 ],
 "metadata": {
  "kernelspec": {
   "display_name": "Python 3",
   "language": "python",
   "name": "python3"
  },
  "language_info": {
   "codemirror_mode": {
    "name": "ipython",
    "version": 3
   },
   "file_extension": ".py",
   "mimetype": "text/x-python",
   "name": "python",
   "nbconvert_exporter": "python",
   "pygments_lexer": "ipython3",
   "version": "3.6.0"
  }
 },
 "nbformat": 4,
 "nbformat_minor": 2
}
