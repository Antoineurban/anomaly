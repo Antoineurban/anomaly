{
 "cells": [
  {
   "cell_type": "code",
   "execution_count": 1,
   "metadata": {},
   "outputs": [
    {
     "name": "stdout",
     "output_type": "stream",
     "text": [
      "loaded 5646 rows (0.02 s)\n",
      "using seed: 2031237181\n"
     ]
    }
   ],
   "source": [
    "from detector import *\n",
    "from loader import load_detector\n",
    "detector = load_detector()\n",
    "from sklearn import svm\n",
    "from sklearn import ensemble\n",
    "from sklearn import neural_network\n",
    "from sklearn.tree import DecisionTreeClassifier\n",
    "from sklearn.model_selection import GridSearchCV\n",
    "from sklearn.preprocessing import StandardScaler\n",
    "from sklearn.metrics import classification_report, confusion_matrix  \n",
    "from sklearn.multiclass import OneVsRestClassifier\n",
    "from sklearn.ensemble import BaggingClassifier, RandomForestClassifier\n",
    "from sklearn.preprocessing import MinMaxScaler\n"
   ]
  },
  {
   "cell_type": "code",
   "execution_count": null,
   "metadata": {},
   "outputs": [],
   "source": [
    "#svclassifier = svm.SVC(kernel='poly', degree=3, C=0.1,verbose=True).fit(detector.xtrain, detector.ytrain)\n",
    "clf = OneVsRestClassifier(BaggingClassifier(svm.SVC(kernel='linear', probability=True, class_weight='balanced'),verbose=True, n_jobs=-1)).fit(detector.xtrain, detector.ytrain)\n",
    "#clf.fit(detector.xtrain, detector.ytrain)\n",
    "\n",
    "\n",
    "#clf = OneVsRestClassifier(BaggingClassifier(SVC(kernel='linear', probability=True, class_weight='balanced'), max_samples=1.0 / n_estimators, n_estimators=n_estimators, n_jobs=-1))\n",
    "\n",
    "#svclassifier.fit(detector.xtrain, detector.ytrain)\n",
    "y_pred = clf.predict(detector.xtest) \n",
    "\n",
    "clf.score(detector.xtrain,detector.ytrain)\n",
    "print(confusion_matrix(detector.ytest,y_pred))  \n"
   ]
  },
  {
   "cell_type": "code",
   "execution_count": 7,
   "metadata": {},
   "outputs": [
    {
     "data": {
      "text/plain": [
       "(array([[2728,  115],\n",
       "        [ 278,  202]]),\n",
       " 134.05142879486084,\n",
       " SVC(C=1, cache_size=200, class_weight=None, coef0=0.0,\n",
       "   decision_function_shape='ovr', degree=3, gamma='auto', kernel='linear',\n",
       "   max_iter=-1, probability=False, random_state=None, shrinking=True,\n",
       "   tol=1e-08, verbose=False))"
      ]
     },
     "execution_count": 7,
     "metadata": {},
     "output_type": "execute_result"
    }
   ],
   "source": [
    "scaler = MinMaxScaler()  # Default behavior is to scale to [0,1]\n",
    "\n",
    "scaler.fit(detector.xtrain)\n",
    "xtrain = scaler.transform(detector.xtrain)\n",
    "#ytrain = detector.ytrain * 1  # convert bool to 0 or 1\n",
    "\n",
    "clf_rbf = svm.SVC(kernel='linear', C=1,tol=1e-08)\n",
    "clf_rbf.fit(xtrain, detector.ytrain)\n",
    "#clf_rbf.score(detector.xtrain,detector.ytrain)\n",
    "\n",
    "detector.classify(clf_rbf)\n"
   ]
  },
  {
   "cell_type": "code",
   "execution_count": null,
   "metadata": {},
   "outputs": [],
   "source": [
    "y_pred = clf_rbf.predict(detector.xtest) \n",
    "\n",
    "clf_rbf.score(detector.xtrain,detector.ytrain)\n",
    "print(confusion_matrix(detector.ytest,y_pred))  "
   ]
  },
  {
   "cell_type": "code",
   "execution_count": null,
   "metadata": {},
   "outputs": [],
   "source": []
  }
 ],
 "metadata": {
  "kernelspec": {
   "display_name": "Python 3",
   "language": "python",
   "name": "python3"
  },
  "language_info": {
   "codemirror_mode": {
    "name": "ipython",
    "version": 3
   },
   "file_extension": ".py",
   "mimetype": "text/x-python",
   "name": "python",
   "nbconvert_exporter": "python",
   "pygments_lexer": "ipython3",
   "version": "3.6.4"
  }
 },
 "nbformat": 4,
 "nbformat_minor": 2
}
