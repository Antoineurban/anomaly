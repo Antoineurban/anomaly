{
 "cells": [
  {
   "cell_type": "code",
   "execution_count": 5,
   "metadata": {},
   "outputs": [
    {
     "name": "stdout",
     "output_type": "stream",
     "text": [
      "body shape:\t(507, 3)\n",
      "loaded 5646 rows (0.02 s)\n",
      "using seed: 846410411\n"
     ]
    }
   ],
   "source": [
    "from detector import *\n",
    "from loader import load_detector\n",
    "detector = load_detector()"
   ]
  },
  {
   "cell_type": "code",
   "execution_count": 26,
   "metadata": {},
   "outputs": [],
   "source": [
    "from sklearn.preprocessing import StandardScaler\n",
    "from sklearn.model_selection import GridSearchCV\n",
    "\n",
    "def grid_search(base_clf, parameters, verbose=0, n_jobs=10, cv=5):\n",
    "    \n",
    "    # scaling  training set\n",
    "    scaler = StandardScaler()\n",
    "    scaler.fit(detector.xtrain)\n",
    "    xtrain = scaler.transform(detector.xtrain)\n",
    "    ytrain = detector.ytrain * 1  # convert bool to 0 or 1\n",
    "    \n",
    "    gs = GridSearchCV(base_clf, parameters, verbose=verbose, n_jobs=n_jobs, cv=cv)\n",
    "    gs.fit(xtrain, ytrain)\n",
    "    \n",
    "    print(\"best score:\", gs.best_score_)\n",
    "    print(\"obtained with parameters:\", gs.best_params_)\n",
    "    \n",
    "    return gs.best_estimator_, gs.best_params_\n"
   ]
  },
  {
   "cell_type": "code",
   "execution_count": 27,
   "metadata": {},
   "outputs": [
    {
     "name": "stderr",
     "output_type": "stream",
     "text": [
      "/cal/homes/ychalier/anomaly/venv/lib/python3.5/site-packages/sklearn/neural_network/multilayer_perceptron.py:564: ConvergenceWarning: Stochastic Optimizer: Maximum iterations (500) reached and the optimization hasn't converged yet.\n",
      "  % self.max_iter, ConvergenceWarning)\n",
      "/cal/homes/ychalier/anomaly/venv/lib/python3.5/site-packages/sklearn/neural_network/multilayer_perceptron.py:564: ConvergenceWarning: Stochastic Optimizer: Maximum iterations (500) reached and the optimization hasn't converged yet.\n",
      "  % self.max_iter, ConvergenceWarning)\n",
      "/cal/homes/ychalier/anomaly/venv/lib/python3.5/site-packages/sklearn/neural_network/multilayer_perceptron.py:564: ConvergenceWarning: Stochastic Optimizer: Maximum iterations (500) reached and the optimization hasn't converged yet.\n",
      "  % self.max_iter, ConvergenceWarning)\n",
      "/cal/homes/ychalier/anomaly/venv/lib/python3.5/site-packages/sklearn/neural_network/multilayer_perceptron.py:564: ConvergenceWarning: Stochastic Optimizer: Maximum iterations (500) reached and the optimization hasn't converged yet.\n",
      "  % self.max_iter, ConvergenceWarning)\n",
      "/cal/homes/ychalier/anomaly/venv/lib/python3.5/site-packages/sklearn/neural_network/multilayer_perceptron.py:564: ConvergenceWarning: Stochastic Optimizer: Maximum iterations (500) reached and the optimization hasn't converged yet.\n",
      "  % self.max_iter, ConvergenceWarning)\n",
      "/cal/homes/ychalier/anomaly/venv/lib/python3.5/site-packages/sklearn/neural_network/multilayer_perceptron.py:564: ConvergenceWarning: Stochastic Optimizer: Maximum iterations (500) reached and the optimization hasn't converged yet.\n",
      "  % self.max_iter, ConvergenceWarning)\n",
      "/cal/homes/ychalier/anomaly/venv/lib/python3.5/site-packages/sklearn/neural_network/multilayer_perceptron.py:564: ConvergenceWarning: Stochastic Optimizer: Maximum iterations (500) reached and the optimization hasn't converged yet.\n",
      "  % self.max_iter, ConvergenceWarning)\n",
      "/cal/homes/ychalier/anomaly/venv/lib/python3.5/site-packages/sklearn/neural_network/multilayer_perceptron.py:564: ConvergenceWarning: Stochastic Optimizer: Maximum iterations (500) reached and the optimization hasn't converged yet.\n",
      "  % self.max_iter, ConvergenceWarning)\n",
      "/cal/homes/ychalier/anomaly/venv/lib/python3.5/site-packages/sklearn/neural_network/multilayer_perceptron.py:564: ConvergenceWarning: Stochastic Optimizer: Maximum iterations (500) reached and the optimization hasn't converged yet.\n",
      "  % self.max_iter, ConvergenceWarning)\n",
      "/cal/homes/ychalier/anomaly/venv/lib/python3.5/site-packages/sklearn/neural_network/multilayer_perceptron.py:564: ConvergenceWarning: Stochastic Optimizer: Maximum iterations (500) reached and the optimization hasn't converged yet.\n",
      "  % self.max_iter, ConvergenceWarning)\n",
      "/cal/homes/ychalier/anomaly/venv/lib/python3.5/site-packages/sklearn/neural_network/multilayer_perceptron.py:564: ConvergenceWarning: Stochastic Optimizer: Maximum iterations (500) reached and the optimization hasn't converged yet.\n",
      "  % self.max_iter, ConvergenceWarning)\n",
      "/cal/homes/ychalier/anomaly/venv/lib/python3.5/site-packages/sklearn/neural_network/multilayer_perceptron.py:564: ConvergenceWarning: Stochastic Optimizer: Maximum iterations (500) reached and the optimization hasn't converged yet.\n",
      "  % self.max_iter, ConvergenceWarning)\n",
      "/cal/homes/ychalier/anomaly/venv/lib/python3.5/site-packages/sklearn/neural_network/multilayer_perceptron.py:564: ConvergenceWarning: Stochastic Optimizer: Maximum iterations (500) reached and the optimization hasn't converged yet.\n",
      "  % self.max_iter, ConvergenceWarning)\n"
     ]
    },
    {
     "name": "stdout",
     "output_type": "stream",
     "text": [
      "best score: 0.9732250300842359\n",
      "obtained with parameters: {'learning_rate': 'invscaling', 'hidden_layer_sizes': 10, 'alpha': 1e-05, 'activation': 'relu'}\n"
     ]
    }
   ],
   "source": [
    "from sklearn import neural_network\n",
    "\n",
    "parameters_mlp_test = {\n",
    "    'learning_rate': [\"invscaling\"],\n",
    "    'hidden_layer_sizes': [5, 10],\n",
    "    'alpha': [.0001, .00001],\n",
    "    'activation': [\"logistic\", \"relu\"]\n",
    "}\n",
    "\n",
    "parameters_mlp = {\n",
    "    'learning_rate': [\"invscaling\"],\n",
    "    'hidden_layer_sizes': [x for x in range(1, 50)],\n",
    "    'alpha': 10.0 ** - np.arange(4, 7),\n",
    "    'activation': [\"logistic\", \"relu\"]\n",
    "}\n",
    "\n",
    "mlp = neural_network.MLPClassifier(max_iter=500)\n",
    "\n",
    "clf = grid_search(mlp, parameters_mlp_test)"
   ]
  }
 ],
 "metadata": {
  "kernelspec": {
   "display_name": "Python 3",
   "language": "python",
   "name": "python3"
  },
  "language_info": {
   "codemirror_mode": {
    "name": "ipython",
    "version": 3
   },
   "file_extension": ".py",
   "mimetype": "text/x-python",
   "name": "python",
   "nbconvert_exporter": "python",
   "pygments_lexer": "ipython3",
   "version": "3.5.3"
  }
 },
 "nbformat": 4,
 "nbformat_minor": 2
}
