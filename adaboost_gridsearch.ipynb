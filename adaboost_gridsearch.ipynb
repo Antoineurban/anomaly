{
 "cells": [
  {
   "cell_type": "code",
   "execution_count": 3,
   "metadata": {},
   "outputs": [
    {
     "name": "stdout",
     "output_type": "stream",
     "text": [
      "loaded 5646 rows (0.02 s)\n",
      "using seed: 168251103\n"
     ]
    }
   ],
   "source": [
    "from detector import *\n",
    "from loader import load_detector\n",
    "detector = load_detector()\n",
    "from sklearn import svm\n",
    "from sklearn import ensemble\n",
    "from sklearn import neural_network\n",
    "from sklearn.tree import DecisionTreeClassifier\n",
    "from sklearn.model_selection import GridSearchCV\n",
    "from sklearn.preprocessing import StandardScaler"
   ]
  },
  {
   "cell_type": "code",
   "execution_count": 4,
   "metadata": {},
   "outputs": [
    {
     "name": "stdout",
     "output_type": "stream",
     "text": [
      "Fitting 5 folds for each of 891 candidates, totalling 4455 fits\n"
     ]
    },
    {
     "name": "stderr",
     "output_type": "stream",
     "text": [
      "[Parallel(n_jobs=50)]: Done 757 tasks      | elapsed:   35.1s\n",
      "[Parallel(n_jobs=50)]: Done 1280 tasks      | elapsed:   50.3s\n",
      "[Parallel(n_jobs=50)]: Done 1681 tasks      | elapsed:  1.0min\n",
      "[Parallel(n_jobs=50)]: Done 2131 tasks      | elapsed:  1.4min\n",
      "[Parallel(n_jobs=50)]: Done 2681 tasks      | elapsed:  1.7min\n",
      "[Parallel(n_jobs=50)]: Done 3331 tasks      | elapsed:  2.1min\n",
      "[Parallel(n_jobs=50)]: Done 4081 tasks      | elapsed:  2.6min\n",
      "[Parallel(n_jobs=50)]: Done 4455 out of 4455 | elapsed:  2.9min finished\n"
     ]
    },
    {
     "name": "stdout",
     "output_type": "stream",
     "text": [
      "best score: 0.9392298435619735\n",
      "obtained with parameters: {'learning_rate': 0.9, 'n_estimators': 99}\n"
     ]
    }
   ],
   "source": [
    "def grid_search(base_clf, parameters, verbose=1, n_jobs=50, cv=5):\n",
    "    \n",
    "    # scaling  training set\n",
    "    scaler = StandardScaler()\n",
    "    scaler.fit(detector.xtrain)\n",
    "    xtrain = scaler.transform(detector.xtrain)\n",
    "    ytrain = detector.ytrain * 1  # convert bool to 0 or 1\n",
    "    \n",
    "    gs = GridSearchCV(base_clf, parameters, verbose=verbose, n_jobs=n_jobs, cv=cv)\n",
    "    gs.fit(xtrain, ytrain)\n",
    "    \n",
    "    print(\"best score:\", gs.best_score_)\n",
    "    print(\"obtained with parameters:\", gs.best_params_)\n",
    "    \n",
    "    return gs.best_estimator_, gs.best_params_\n",
    "\n",
    "parameters={\n",
    "    'n_estimators': [x for x in range(1,100)],\n",
    "    'learning_rate': [x * 0.1 for x in range(1, 10)]\n",
    "}\n",
    "ada1=ensemble.AdaBoostClassifier(DecisionTreeClassifier(max_depth=1))\n",
    "clf = grid_search(ada1, parameters)\n",
    "\n"
   ]
  },
  {
   "cell_type": "code",
   "execution_count": 6,
   "metadata": {},
   "outputs": [
    {
     "name": "stdout",
     "output_type": "stream",
     "text": [
      "Fitting 5 folds for each of 891 candidates, totalling 4455 fits\n"
     ]
    },
    {
     "name": "stderr",
     "output_type": "stream",
     "text": [
      "[Parallel(n_jobs=50)]: Done  19 tasks      | elapsed:    0.7s\n",
      "[Parallel(n_jobs=50)]: Done 738 tasks      | elapsed:   35.9s\n",
      "[Parallel(n_jobs=50)]: Done 2119 tasks      | elapsed:  1.5min\n",
      "[Parallel(n_jobs=50)]: Done 2805 tasks      | elapsed:  2.0min\n",
      "[Parallel(n_jobs=50)]: Done 3431 tasks      | elapsed:  2.5min\n",
      "[Parallel(n_jobs=50)]: Done 4382 tasks      | elapsed:  3.1min\n",
      "[Parallel(n_jobs=50)]: Done 4455 out of 4455 | elapsed:  3.2min finished\n"
     ]
    },
    {
     "name": "stdout",
     "output_type": "stream",
     "text": [
      "best score: 0.9807460890493381\n",
      "obtained with parameters: {'learning_rate': 0.30000000000000004, 'n_estimators': 58}\n"
     ]
    }
   ],
   "source": [
    "ada2=ensemble.AdaBoostClassifier(DecisionTreeClassifier(max_depth=2))\n",
    "clf2 = grid_search(ada2, parameters)"
   ]
  },
  {
   "cell_type": "code",
   "execution_count": 7,
   "metadata": {},
   "outputs": [
    {
     "name": "stdout",
     "output_type": "stream",
     "text": [
      "Fitting 5 folds for each of 891 candidates, totalling 4455 fits\n"
     ]
    },
    {
     "name": "stderr",
     "output_type": "stream",
     "text": [
      "[Parallel(n_jobs=50)]: Done 760 tasks      | elapsed:   45.0s\n",
      "[Parallel(n_jobs=50)]: Done 1392 tasks      | elapsed:  1.1min\n",
      "[Parallel(n_jobs=50)]: Done 1742 tasks      | elapsed:  1.4min\n",
      "[Parallel(n_jobs=50)]: Done 2192 tasks      | elapsed:  1.7min\n",
      "[Parallel(n_jobs=50)]: Done 2742 tasks      | elapsed:  2.2min\n",
      "[Parallel(n_jobs=50)]: Done 3392 tasks      | elapsed:  2.8min\n",
      "[Parallel(n_jobs=50)]: Done 4142 tasks      | elapsed:  3.3min\n",
      "[Parallel(n_jobs=50)]: Done 4455 out of 4455 | elapsed:  3.7min finished\n"
     ]
    },
    {
     "name": "stdout",
     "output_type": "stream",
     "text": [
      "best score: 0.9798435619735258\n",
      "obtained with parameters: {'learning_rate': 0.5, 'n_estimators': 99}\n"
     ]
    }
   ],
   "source": [
    "ada3=ensemble.AdaBoostClassifier(DecisionTreeClassifier(max_depth=3))\n",
    "clf3 = grid_search(ada3, parameters)"
   ]
  },
  {
   "cell_type": "code",
   "execution_count": 8,
   "metadata": {},
   "outputs": [
    {
     "name": "stdout",
     "output_type": "stream",
     "text": [
      "Fitting 5 folds for each of 891 candidates, totalling 4455 fits\n"
     ]
    },
    {
     "name": "stderr",
     "output_type": "stream",
     "text": [
      "[Parallel(n_jobs=50)]: Done  12 tasks      | elapsed:    0.2s\n",
      "[Parallel(n_jobs=50)]: Done 418 tasks      | elapsed:   23.3s\n",
      "[Parallel(n_jobs=50)]: Done 863 tasks      | elapsed:   51.8s\n",
      "[Parallel(n_jobs=50)]: Done 1370 tasks      | elapsed:  1.3min\n",
      "[Parallel(n_jobs=50)]: Done 1820 tasks      | elapsed:  1.7min\n",
      "[Parallel(n_jobs=50)]: Done 2458 tasks      | elapsed:  2.4min\n",
      "[Parallel(n_jobs=50)]: Done 3108 tasks      | elapsed:  2.9min\n",
      "[Parallel(n_jobs=50)]: Done 3946 tasks      | elapsed:  3.8min\n",
      "[Parallel(n_jobs=50)]: Done 4455 out of 4455 | elapsed:  4.4min finished\n"
     ]
    },
    {
     "name": "stdout",
     "output_type": "stream",
     "text": [
      "best score: 0.9810469314079422\n",
      "obtained with parameters: {'learning_rate': 0.9, 'n_estimators': 69}\n"
     ]
    }
   ],
   "source": [
    "ada4=ensemble.AdaBoostClassifier(DecisionTreeClassifier(max_depth=4))\n",
    "clf4 = grid_search(ada4, parameters)"
   ]
  },
  {
   "cell_type": "code",
   "execution_count": 9,
   "metadata": {},
   "outputs": [
    {
     "name": "stdout",
     "output_type": "stream",
     "text": [
      "Fitting 5 folds for each of 891 candidates, totalling 4455 fits\n"
     ]
    },
    {
     "name": "stderr",
     "output_type": "stream",
     "text": [
      "[Parallel(n_jobs=50)]: Done   9 tasks      | elapsed:    0.3s\n",
      "[Parallel(n_jobs=50)]: Done 507 tasks      | elapsed:   41.4s\n",
      "[Parallel(n_jobs=50)]: Done 946 tasks      | elapsed:  1.2min\n",
      "[Parallel(n_jobs=50)]: Done 1434 tasks      | elapsed:  1.8min\n",
      "[Parallel(n_jobs=50)]: Done 1884 tasks      | elapsed:  2.3min\n",
      "[Parallel(n_jobs=50)]: Done 2509 tasks      | elapsed:  3.0min\n",
      "[Parallel(n_jobs=50)]: Done 3159 tasks      | elapsed:  3.7min\n",
      "[Parallel(n_jobs=50)]: Done 3909 tasks      | elapsed:  4.7min\n",
      "[Parallel(n_jobs=50)]: Done 4455 out of 4455 | elapsed:  5.4min finished\n"
     ]
    },
    {
     "name": "stdout",
     "output_type": "stream",
     "text": [
      "best score: 0.9813477737665464\n",
      "obtained with parameters: {'learning_rate': 0.9, 'n_estimators': 44}\n"
     ]
    }
   ],
   "source": [
    "ada5=ensemble.AdaBoostClassifier(DecisionTreeClassifier(max_depth=5))\n",
    "clf5 = grid_search(ada5, parameters)"
   ]
  },
  {
   "cell_type": "code",
   "execution_count": 10,
   "metadata": {},
   "outputs": [
    {
     "name": "stdout",
     "output_type": "stream",
     "text": [
      "Fitting 5 folds for each of 891 candidates, totalling 4455 fits\n"
     ]
    },
    {
     "name": "stderr",
     "output_type": "stream",
     "text": [
      "[Parallel(n_jobs=50)]: Done 100 tasks      | elapsed:   11.7s\n",
      "[Parallel(n_jobs=50)]: Done 667 tasks      | elapsed:   49.2s\n",
      "[Parallel(n_jobs=50)]: Done 976 tasks      | elapsed:  1.3min\n",
      "[Parallel(n_jobs=50)]: Done 1453 tasks      | elapsed:  1.9min\n",
      "[Parallel(n_jobs=50)]: Done 2228 tasks      | elapsed:  2.8min\n",
      "[Parallel(n_jobs=50)]: Done 2940 tasks      | elapsed:  4.0min\n",
      "[Parallel(n_jobs=50)]: Done 3929 tasks      | elapsed:  5.3min\n",
      "[Parallel(n_jobs=50)]: Done 4455 out of 4455 | elapsed:  6.0min finished\n"
     ]
    },
    {
     "name": "stdout",
     "output_type": "stream",
     "text": [
      "best score: 0.9798435619735258\n",
      "obtained with parameters: {'learning_rate': 0.6000000000000001, 'n_estimators': 78}\n"
     ]
    }
   ],
   "source": [
    "ada6=ensemble.AdaBoostClassifier(DecisionTreeClassifier(max_depth=6))\n",
    "clf6 = grid_search(ada6, parameters)"
   ]
  },
  {
   "cell_type": "code",
   "execution_count": 11,
   "metadata": {},
   "outputs": [
    {
     "name": "stdout",
     "output_type": "stream",
     "text": [
      "Fitting 5 folds for each of 891 candidates, totalling 4455 fits\n"
     ]
    },
    {
     "name": "stderr",
     "output_type": "stream",
     "text": [
      "[Parallel(n_jobs=50)]: Done   8 tasks      | elapsed:    0.1s\n",
      "[Parallel(n_jobs=50)]: Done 370 tasks      | elapsed:   31.2s\n",
      "[Parallel(n_jobs=50)]: Done 831 tasks      | elapsed:  1.2min\n",
      "[Parallel(n_jobs=50)]: Done 1226 tasks      | elapsed:  1.6min\n",
      "[Parallel(n_jobs=50)]: Done 1676 tasks      | elapsed:  2.2min\n",
      "[Parallel(n_jobs=50)]: Done 2226 tasks      | elapsed:  3.0min\n",
      "[Parallel(n_jobs=50)]: Done 2876 tasks      | elapsed:  3.9min\n",
      "[Parallel(n_jobs=50)]: Done 3626 tasks      | elapsed:  4.8min\n",
      "[Parallel(n_jobs=50)]: Done 4455 out of 4455 | elapsed:  6.1min finished\n"
     ]
    },
    {
     "name": "stdout",
     "output_type": "stream",
     "text": [
      "best score: 0.9807460890493381\n",
      "obtained with parameters: {'learning_rate': 0.9, 'n_estimators': 43}\n"
     ]
    }
   ],
   "source": [
    "ada7=ensemble.AdaBoostClassifier(DecisionTreeClassifier(max_depth=7))\n",
    "clf7 = grid_search(ada7, parameters)"
   ]
  },
  {
   "cell_type": "code",
   "execution_count": 12,
   "metadata": {},
   "outputs": [
    {
     "name": "stdout",
     "output_type": "stream",
     "text": [
      "Fitting 5 folds for each of 891 candidates, totalling 4455 fits\n"
     ]
    },
    {
     "name": "stderr",
     "output_type": "stream",
     "text": [
      "[Parallel(n_jobs=50)]: Done 410 tasks      | elapsed:   37.3s\n",
      "[Parallel(n_jobs=50)]: Done 768 tasks      | elapsed:   58.5s\n",
      "[Parallel(n_jobs=50)]: Done 1118 tasks      | elapsed:  1.5min\n",
      "[Parallel(n_jobs=50)]: Done 1568 tasks      | elapsed:  2.1min\n",
      "[Parallel(n_jobs=50)]: Done 2118 tasks      | elapsed:  2.8min\n",
      "[Parallel(n_jobs=50)]: Done 2768 tasks      | elapsed:  3.8min\n",
      "[Parallel(n_jobs=50)]: Done 3518 tasks      | elapsed:  4.8min\n",
      "[Parallel(n_jobs=50)]: Done 4368 tasks      | elapsed:  5.9min\n",
      "[Parallel(n_jobs=50)]: Done 4455 out of 4455 | elapsed:  6.1min finished\n"
     ]
    },
    {
     "name": "stdout",
     "output_type": "stream",
     "text": [
      "best score: 0.9822503008423586\n",
      "obtained with parameters: {'learning_rate': 0.8, 'n_estimators': 60}\n"
     ]
    }
   ],
   "source": [
    "ada8=ensemble.AdaBoostClassifier(DecisionTreeClassifier(max_depth=8))\n",
    "clf8 = grid_search(ada8, parameters)"
   ]
  },
  {
   "cell_type": "code",
   "execution_count": 13,
   "metadata": {},
   "outputs": [
    {
     "name": "stdout",
     "output_type": "stream",
     "text": [
      "Fitting 5 folds for each of 891 candidates, totalling 4455 fits\n"
     ]
    },
    {
     "name": "stderr",
     "output_type": "stream",
     "text": [
      "[Parallel(n_jobs=50)]: Done 424 tasks      | elapsed:   41.1s\n",
      "[Parallel(n_jobs=50)]: Done 891 tasks      | elapsed:  1.4min\n",
      "[Parallel(n_jobs=50)]: Done 1306 tasks      | elapsed:  1.7min\n",
      "[Parallel(n_jobs=50)]: Done 1756 tasks      | elapsed:  2.3min\n",
      "[Parallel(n_jobs=50)]: Done 2306 tasks      | elapsed:  3.1min\n",
      "[Parallel(n_jobs=50)]: Done 2956 tasks      | elapsed:  4.1min\n",
      "[Parallel(n_jobs=50)]: Done 3706 tasks      | elapsed:  5.0min\n",
      "[Parallel(n_jobs=50)]: Done 4455 out of 4455 | elapsed:  6.0min finished\n"
     ]
    },
    {
     "name": "stdout",
     "output_type": "stream",
     "text": [
      "best score: 0.9807460890493381\n",
      "obtained with parameters: {'learning_rate': 0.8, 'n_estimators': 73}\n"
     ]
    }
   ],
   "source": [
    "ada9=ensemble.AdaBoostClassifier(DecisionTreeClassifier(max_depth=9))\n",
    "clf9 = grid_search(ada9, parameters)"
   ]
  },
  {
   "cell_type": "code",
   "execution_count": 14,
   "metadata": {},
   "outputs": [
    {
     "name": "stdout",
     "output_type": "stream",
     "text": [
      "Fitting 5 folds for each of 891 candidates, totalling 4455 fits\n"
     ]
    },
    {
     "name": "stderr",
     "output_type": "stream",
     "text": [
      "[Parallel(n_jobs=50)]: Done  17 tasks      | elapsed:    0.6s\n",
      "[Parallel(n_jobs=50)]: Done 423 tasks      | elapsed:   34.7s\n",
      "[Parallel(n_jobs=50)]: Done 868 tasks      | elapsed:  1.1min\n",
      "[Parallel(n_jobs=50)]: Done 1341 tasks      | elapsed:  1.6min\n",
      "[Parallel(n_jobs=50)]: Done 1873 tasks      | elapsed:  2.2min\n",
      "[Parallel(n_jobs=50)]: Done 2423 tasks      | elapsed:  2.9min\n",
      "[Parallel(n_jobs=50)]: Done 3073 tasks      | elapsed:  3.7min\n",
      "[Parallel(n_jobs=50)]: Done 3823 tasks      | elapsed:  4.8min\n",
      "[Parallel(n_jobs=50)]: Done 4455 out of 4455 | elapsed:  5.8min finished\n"
     ]
    },
    {
     "name": "stdout",
     "output_type": "stream",
     "text": [
      "best score: 0.9813477737665464\n",
      "obtained with parameters: {'learning_rate': 0.8, 'n_estimators': 50}\n"
     ]
    }
   ],
   "source": [
    "ada10=ensemble.AdaBoostClassifier(DecisionTreeClassifier(max_depth=10))\n",
    "clf10 = grid_search(ada10, parameters)"
   ]
  },
  {
   "cell_type": "code",
   "execution_count": 16,
   "metadata": {},
   "outputs": [],
   "source": []
  },
  {
   "cell_type": "code",
   "execution_count": 19,
   "metadata": {},
   "outputs": [
    {
     "name": "stdout",
     "output_type": "stream",
     "text": [
      "(AdaBoostClassifier(algorithm='SAMME.R',\n",
      "          base_estimator=DecisionTreeClassifier(class_weight=None, criterion='gini', max_depth=2,\n",
      "            max_features=None, max_leaf_nodes=None,\n",
      "            min_impurity_decrease=0.0, min_impurity_split=None,\n",
      "            min_samples_leaf=1, min_samples_split=2,\n",
      "            min_weight_fraction_leaf=0.0, presort=False, random_state=None,\n",
      "            splitter='best'),\n",
      "          learning_rate=0.30000000000000004, n_estimators=58,\n",
      "          random_state=None), {'learning_rate': 0.30000000000000004, 'n_estimators': 58})\n"
     ]
    }
   ],
   "source": []
  },
  {
   "cell_type": "code",
   "execution_count": null,
   "metadata": {},
   "outputs": [],
   "source": []
  }
 ],
 "metadata": {
  "kernelspec": {
   "display_name": "Python 3",
   "language": "python",
   "name": "python3"
  },
  "language_info": {
   "codemirror_mode": {
    "name": "ipython",
    "version": 3
   },
   "file_extension": ".py",
   "mimetype": "text/x-python",
   "name": "python",
   "nbconvert_exporter": "python",
   "pygments_lexer": "ipython3",
   "version": "3.6.4"
  }
 },
 "nbformat": 4,
 "nbformat_minor": 2
}
